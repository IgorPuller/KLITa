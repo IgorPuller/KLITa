{
 "cells": [
  {
   "cell_type": "markdown",
   "id": "00cb5354",
   "metadata": {},
   "source": [
    "<a id=\"home\"></a>\n",
    "## Table of content\n",
    "1. [EDA](#eda)\n",
    "    1. [Labels]\n",
    "2. [Modeling](#modeling)"
   ]
  },
  {
   "cell_type": "markdown",
   "id": "a430a378",
   "metadata": {},
   "source": [
    "<a id=\"eda\"></a>\n",
    "## EDA"
   ]
  },
  {
   "cell_type": "code",
   "execution_count": 1,
   "id": "9916dd8a",
   "metadata": {},
   "outputs": [],
   "source": [
    "import numpy as np\n",
    "import pandas as pd\n",
    "import matplotlib.pyplot as plt"
   ]
  },
  {
   "cell_type": "markdown",
   "id": "50f4756b",
   "metadata": {},
   "source": [
    "<a id=\"labels\"></a>\n",
    "[home](#home)\n",
    "\n",
    "<a id=\"modeling\"></a>\n",
    "## Modeling"
   ]
  },
  {
   "cell_type": "markdown",
   "id": "5376ff1e",
   "metadata": {},
   "source": [
    "<a id=\"labels\"></a>\n",
    "[home](#home)"
   ]
  },
  {
   "cell_type": "markdown",
   "id": "406eb5b2",
   "metadata": {},
   "source": []
  }
 ],
 "metadata": {
  "kernelspec": {
   "display_name": "py4dp",
   "language": "python",
   "name": "python3"
  },
  "language_info": {
   "codemirror_mode": {
    "name": "ipython",
    "version": 3
   },
   "file_extension": ".py",
   "mimetype": "text/x-python",
   "name": "python",
   "nbconvert_exporter": "python",
   "pygments_lexer": "ipython3",
   "version": "3.11.5"
  }
 },
 "nbformat": 4,
 "nbformat_minor": 5
}
